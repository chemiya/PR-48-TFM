{
 "cells": [
  {
   "cell_type": "code",
   "execution_count": 1,
   "metadata": {},
   "outputs": [],
   "source": [
    "import numpy as np\n",
    "from sklearn.datasets import load_wine\n",
    "from sklearn.model_selection import train_test_split\n",
    "from sklearn.preprocessing import OneHotEncoder\n",
    "import tensorflow as tf"
   ]
  },
  {
   "cell_type": "code",
   "execution_count": 2,
   "metadata": {},
   "outputs": [],
   "source": [
    "wine = load_wine()\n",
    "X_wine, y_wine = wine.data, wine.target"
   ]
  },
  {
   "cell_type": "code",
   "execution_count": 3,
   "metadata": {},
   "outputs": [
    {
     "name": "stderr",
     "output_type": "stream",
     "text": [
      "c:\\Users\\jmlozanoo\\AppData\\Local\\Programs\\Python\\Python311\\Lib\\site-packages\\sklearn\\preprocessing\\_encoders.py:868: FutureWarning: `sparse` was renamed to `sparse_output` in version 1.2 and will be removed in 1.4. `sparse_output` is ignored unless you leave `sparse` to its default value.\n",
      "  warnings.warn(\n"
     ]
    }
   ],
   "source": [
    "one_hot_encoder = OneHotEncoder(sparse=False)\n",
    "y_one_hot = one_hot_encoder.fit_transform(y_wine.reshape(-1, 1))"
   ]
  },
  {
   "cell_type": "code",
   "execution_count": 4,
   "metadata": {},
   "outputs": [],
   "source": [
    "X_train, X_test, y_train, y_test = train_test_split(X_wine, y_one_hot, test_size=0.2, random_state=42)"
   ]
  },
  {
   "cell_type": "code",
   "execution_count": 5,
   "metadata": {},
   "outputs": [],
   "source": [
    "model = tf.keras.models.Sequential([\n",
    "    tf.keras.layers.Dense(128, activation='relu', input_shape=(X_train.shape[1],)),\n",
    "    tf.keras.layers.Dropout(0.3),\n",
    "    tf.keras.layers.Dense(64, activation='relu'),\n",
    "    tf.keras.layers.Dropout(0.3),\n",
    "    tf.keras.layers.Dense(32, activation='relu'),\n",
    "    tf.keras.layers.Dropout(0.3),\n",
    "    tf.keras.layers.Dense(len(wine.target_names), activation='softmax')  # Capa de salida con el número de clases\n",
    "])"
   ]
  },
  {
   "cell_type": "code",
   "execution_count": 6,
   "metadata": {},
   "outputs": [],
   "source": [
    "model.compile(optimizer='adam', loss='categorical_crossentropy', metrics=['accuracy'])"
   ]
  },
  {
   "cell_type": "code",
   "execution_count": 7,
   "metadata": {},
   "outputs": [
    {
     "name": "stdout",
     "output_type": "stream",
     "text": [
      "Epoch 1/50\n",
      "8/8 [==============================] - 1s 25ms/step - loss: 52.2943 - accuracy: 0.3386 - val_loss: 8.5308 - val_accuracy: 0.1333\n",
      "Epoch 2/50\n",
      "8/8 [==============================] - 0s 5ms/step - loss: 33.1569 - accuracy: 0.3228 - val_loss: 16.1962 - val_accuracy: 0.1333\n",
      "Epoch 3/50\n",
      "8/8 [==============================] - 0s 5ms/step - loss: 23.0071 - accuracy: 0.3701 - val_loss: 10.0205 - val_accuracy: 0.1333\n",
      "Epoch 4/50\n",
      "8/8 [==============================] - 0s 6ms/step - loss: 17.7079 - accuracy: 0.3701 - val_loss: 5.3844 - val_accuracy: 0.1333\n",
      "Epoch 5/50\n",
      "8/8 [==============================] - 0s 5ms/step - loss: 16.5351 - accuracy: 0.4094 - val_loss: 3.2678 - val_accuracy: 0.6667\n",
      "Epoch 6/50\n",
      "8/8 [==============================] - 0s 5ms/step - loss: 12.9245 - accuracy: 0.3071 - val_loss: 3.4432 - val_accuracy: 0.6667\n",
      "Epoch 7/50\n",
      "8/8 [==============================] - 0s 7ms/step - loss: 12.2070 - accuracy: 0.3543 - val_loss: 3.2828 - val_accuracy: 0.6667\n",
      "Epoch 8/50\n",
      "8/8 [==============================] - 0s 5ms/step - loss: 13.2245 - accuracy: 0.3386 - val_loss: 2.8267 - val_accuracy: 0.6667\n",
      "Epoch 9/50\n",
      "8/8 [==============================] - 0s 5ms/step - loss: 12.2514 - accuracy: 0.3071 - val_loss: 2.2591 - val_accuracy: 0.6667\n",
      "Epoch 10/50\n",
      "8/8 [==============================] - 0s 5ms/step - loss: 9.1515 - accuracy: 0.3386 - val_loss: 2.0651 - val_accuracy: 0.6667\n",
      "Epoch 11/50\n",
      "8/8 [==============================] - 0s 5ms/step - loss: 7.2544 - accuracy: 0.3543 - val_loss: 1.9171 - val_accuracy: 0.6667\n",
      "Epoch 12/50\n",
      "8/8 [==============================] - 0s 5ms/step - loss: 7.9054 - accuracy: 0.3071 - val_loss: 1.5976 - val_accuracy: 0.6667\n",
      "Epoch 13/50\n",
      "8/8 [==============================] - 0s 5ms/step - loss: 6.0802 - accuracy: 0.2677 - val_loss: 1.3455 - val_accuracy: 0.6667\n",
      "Epoch 14/50\n",
      "8/8 [==============================] - 0s 6ms/step - loss: 6.5434 - accuracy: 0.3150 - val_loss: 1.1940 - val_accuracy: 0.6667\n",
      "Epoch 15/50\n",
      "8/8 [==============================] - 0s 5ms/step - loss: 4.5858 - accuracy: 0.3701 - val_loss: 1.1436 - val_accuracy: 0.6667\n",
      "Epoch 16/50\n",
      "8/8 [==============================] - 0s 6ms/step - loss: 5.3195 - accuracy: 0.3543 - val_loss: 1.1273 - val_accuracy: 0.6667\n",
      "Epoch 17/50\n",
      "8/8 [==============================] - 0s 5ms/step - loss: 4.5451 - accuracy: 0.3465 - val_loss: 1.1191 - val_accuracy: 0.6667\n",
      "Epoch 18/50\n",
      "8/8 [==============================] - 0s 5ms/step - loss: 3.4938 - accuracy: 0.3780 - val_loss: 1.0825 - val_accuracy: 0.6667\n",
      "Epoch 19/50\n",
      "8/8 [==============================] - 0s 5ms/step - loss: 3.6801 - accuracy: 0.3465 - val_loss: 1.0134 - val_accuracy: 0.6667\n",
      "Epoch 20/50\n",
      "8/8 [==============================] - 0s 5ms/step - loss: 3.3003 - accuracy: 0.4331 - val_loss: 1.0017 - val_accuracy: 0.6667\n",
      "Epoch 21/50\n",
      "8/8 [==============================] - 0s 5ms/step - loss: 3.8460 - accuracy: 0.3780 - val_loss: 1.0037 - val_accuracy: 0.6667\n",
      "Epoch 22/50\n",
      "8/8 [==============================] - 0s 5ms/step - loss: 3.4055 - accuracy: 0.3937 - val_loss: 1.0041 - val_accuracy: 0.6667\n",
      "Epoch 23/50\n",
      "8/8 [==============================] - 0s 5ms/step - loss: 3.6529 - accuracy: 0.3465 - val_loss: 1.0064 - val_accuracy: 0.6667\n",
      "Epoch 24/50\n",
      "8/8 [==============================] - 0s 5ms/step - loss: 2.3284 - accuracy: 0.5276 - val_loss: 1.0192 - val_accuracy: 0.6667\n",
      "Epoch 25/50\n",
      "8/8 [==============================] - 0s 5ms/step - loss: 2.3774 - accuracy: 0.3701 - val_loss: 1.0388 - val_accuracy: 0.6667\n",
      "Epoch 26/50\n",
      "8/8 [==============================] - 0s 5ms/step - loss: 2.3303 - accuracy: 0.4016 - val_loss: 1.0444 - val_accuracy: 0.6667\n",
      "Epoch 27/50\n",
      "8/8 [==============================] - 0s 5ms/step - loss: 3.2800 - accuracy: 0.3465 - val_loss: 1.0432 - val_accuracy: 0.6667\n",
      "Epoch 28/50\n",
      "8/8 [==============================] - 0s 6ms/step - loss: 2.6977 - accuracy: 0.3307 - val_loss: 1.0422 - val_accuracy: 0.6667\n",
      "Epoch 29/50\n",
      "8/8 [==============================] - 0s 5ms/step - loss: 1.9030 - accuracy: 0.4252 - val_loss: 1.0412 - val_accuracy: 0.6667\n",
      "Epoch 30/50\n",
      "8/8 [==============================] - 0s 5ms/step - loss: 2.5420 - accuracy: 0.3780 - val_loss: 1.0404 - val_accuracy: 0.6667\n",
      "Epoch 31/50\n",
      "8/8 [==============================] - 0s 11ms/step - loss: 2.8580 - accuracy: 0.4488 - val_loss: 1.0393 - val_accuracy: 0.6667\n",
      "Epoch 32/50\n",
      "8/8 [==============================] - 0s 6ms/step - loss: 1.9506 - accuracy: 0.4016 - val_loss: 1.0380 - val_accuracy: 0.6667\n",
      "Epoch 33/50\n",
      "8/8 [==============================] - 0s 5ms/step - loss: 2.2632 - accuracy: 0.3465 - val_loss: 1.0368 - val_accuracy: 0.6667\n",
      "Epoch 34/50\n",
      "8/8 [==============================] - 0s 8ms/step - loss: 1.8760 - accuracy: 0.3858 - val_loss: 1.0350 - val_accuracy: 0.6667\n",
      "Epoch 35/50\n",
      "8/8 [==============================] - 0s 5ms/step - loss: 1.7736 - accuracy: 0.3937 - val_loss: 1.0337 - val_accuracy: 0.6667\n",
      "Epoch 36/50\n",
      "8/8 [==============================] - 0s 5ms/step - loss: 2.2347 - accuracy: 0.3465 - val_loss: 1.0322 - val_accuracy: 0.6667\n",
      "Epoch 37/50\n",
      "8/8 [==============================] - 0s 6ms/step - loss: 2.3883 - accuracy: 0.3701 - val_loss: 1.0311 - val_accuracy: 0.6667\n",
      "Epoch 38/50\n",
      "8/8 [==============================] - 0s 5ms/step - loss: 1.7242 - accuracy: 0.4016 - val_loss: 1.0302 - val_accuracy: 0.6667\n",
      "Epoch 39/50\n",
      "8/8 [==============================] - 0s 5ms/step - loss: 2.2453 - accuracy: 0.4173 - val_loss: 1.0290 - val_accuracy: 0.6667\n",
      "Epoch 40/50\n",
      "8/8 [==============================] - 0s 5ms/step - loss: 1.7036 - accuracy: 0.3937 - val_loss: 1.0278 - val_accuracy: 0.6667\n",
      "Epoch 41/50\n",
      "8/8 [==============================] - 0s 5ms/step - loss: 1.7407 - accuracy: 0.3465 - val_loss: 1.0265 - val_accuracy: 0.6667\n",
      "Epoch 42/50\n",
      "8/8 [==============================] - 0s 5ms/step - loss: 1.4160 - accuracy: 0.3937 - val_loss: 1.0259 - val_accuracy: 0.6667\n",
      "Epoch 43/50\n",
      "8/8 [==============================] - 0s 6ms/step - loss: 1.4488 - accuracy: 0.3622 - val_loss: 1.0251 - val_accuracy: 0.6667\n",
      "Epoch 44/50\n",
      "8/8 [==============================] - 0s 6ms/step - loss: 1.2858 - accuracy: 0.4016 - val_loss: 1.0246 - val_accuracy: 0.6667\n",
      "Epoch 45/50\n",
      "8/8 [==============================] - 0s 5ms/step - loss: 1.3719 - accuracy: 0.4252 - val_loss: 1.0239 - val_accuracy: 0.6667\n",
      "Epoch 46/50\n",
      "8/8 [==============================] - 0s 7ms/step - loss: 1.4618 - accuracy: 0.4409 - val_loss: 1.0236 - val_accuracy: 0.6667\n",
      "Epoch 47/50\n",
      "8/8 [==============================] - 0s 5ms/step - loss: 1.5357 - accuracy: 0.3937 - val_loss: 1.0229 - val_accuracy: 0.6667\n",
      "Epoch 48/50\n",
      "8/8 [==============================] - 0s 5ms/step - loss: 1.3726 - accuracy: 0.4252 - val_loss: 1.0227 - val_accuracy: 0.6667\n",
      "Epoch 49/50\n",
      "8/8 [==============================] - 0s 5ms/step - loss: 1.4963 - accuracy: 0.3780 - val_loss: 1.0226 - val_accuracy: 0.6667\n",
      "Epoch 50/50\n",
      "8/8 [==============================] - 0s 5ms/step - loss: 1.3513 - accuracy: 0.3622 - val_loss: 1.0223 - val_accuracy: 0.6667\n"
     ]
    },
    {
     "data": {
      "text/plain": [
       "<keras.src.callbacks.History at 0x1664eccfcd0>"
      ]
     },
     "execution_count": 7,
     "metadata": {},
     "output_type": "execute_result"
    }
   ],
   "source": [
    "model.fit(X_train, y_train, epochs=50, batch_size=16, validation_split=0.1)"
   ]
  },
  {
   "cell_type": "code",
   "execution_count": 8,
   "metadata": {},
   "outputs": [
    {
     "name": "stdout",
     "output_type": "stream",
     "text": [
      "2/2 [==============================] - 0s 6ms/step - loss: 1.1124 - accuracy: 0.3889\n",
      "Pérdida en el conjunto de prueba: 1.1124\n",
      "Precisión en el conjunto de prueba: 0.3889\n"
     ]
    }
   ],
   "source": [
    "loss, accuracy = model.evaluate(X_test, y_test)\n",
    "print(f\"Pérdida en el conjunto de prueba: {loss:.4f}\")\n",
    "print(f\"Precisión en el conjunto de prueba: {accuracy:.4f}\")"
   ]
  },
  {
   "cell_type": "code",
   "execution_count": 9,
   "metadata": {},
   "outputs": [
    {
     "name": "stdout",
     "output_type": "stream",
     "text": [
      "1/1 [==============================] - 0s 93ms/step\n",
      "Probabilidades de clase para el nuevo elemento:\n",
      "Clase class_0: 0.2749\n",
      "Clase class_1: 0.3867\n",
      "Clase class_2: 0.3384\n"
     ]
    }
   ],
   "source": [
    "new_data = np.array([[13.24, 2.59, 2.87, 21.0, 118.0, 2.8, 2.69, 0.39, 1.82, 4.32, 1.04, 2.93, 735.0]])  # Por ejemplo, un nuevo elemento con estas características\n",
    "predicted_probabilities = model.predict(new_data)\n",
    "print(\"Probabilidades de clase para el nuevo elemento:\")\n",
    "for i, class_name in enumerate(wine.target_names):\n",
    "    print(f\"Clase {class_name}: {predicted_probabilities[0][i]:.4f}\")"
   ]
  }
 ],
 "metadata": {
  "kernelspec": {
   "display_name": "Python 3",
   "language": "python",
   "name": "python3"
  },
  "language_info": {
   "codemirror_mode": {
    "name": "ipython",
    "version": 3
   },
   "file_extension": ".py",
   "mimetype": "text/x-python",
   "name": "python",
   "nbconvert_exporter": "python",
   "pygments_lexer": "ipython3",
   "version": "3.11.2"
  }
 },
 "nbformat": 4,
 "nbformat_minor": 2
}
