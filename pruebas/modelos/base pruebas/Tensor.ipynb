{
 "cells": [
  {
   "cell_type": "code",
   "execution_count": 10,
   "metadata": {},
   "outputs": [],
   "source": [
    "import numpy as np\n",
    "from sklearn.datasets import load_wine\n",
    "from sklearn.model_selection import train_test_split\n",
    "from sklearn.preprocessing import OneHotEncoder\n",
    "import tensorflow as tf"
   ]
  },
  {
   "cell_type": "code",
   "execution_count": 11,
   "metadata": {},
   "outputs": [],
   "source": [
    "wine = load_wine()\n",
    "X_wine, y_wine = wine.data, wine.target"
   ]
  },
  {
   "cell_type": "code",
   "execution_count": 12,
   "metadata": {},
   "outputs": [
    {
     "name": "stderr",
     "output_type": "stream",
     "text": [
      "c:\\Users\\jmlozanoo\\AppData\\Local\\Programs\\Python\\Python311\\Lib\\site-packages\\sklearn\\preprocessing\\_encoders.py:868: FutureWarning: `sparse` was renamed to `sparse_output` in version 1.2 and will be removed in 1.4. `sparse_output` is ignored unless you leave `sparse` to its default value.\n",
      "  warnings.warn(\n"
     ]
    }
   ],
   "source": [
    "one_hot_encoder = OneHotEncoder(sparse=False)\n",
    "y_one_hot = one_hot_encoder.fit_transform(y_wine.reshape(-1, 1))"
   ]
  },
  {
   "cell_type": "code",
   "execution_count": 13,
   "metadata": {},
   "outputs": [],
   "source": [
    "X_train, X_test, y_train, y_test = train_test_split(X_wine, y_one_hot, test_size=0.2, random_state=42)"
   ]
  },
  {
   "cell_type": "code",
   "execution_count": 15,
   "metadata": {},
   "outputs": [],
   "source": [
    "model = tf.keras.models.Sequential([\n",
    "    tf.keras.layers.Dense(128, activation='relu', input_shape=(X_train.shape[1],)),\n",
    "    tf.keras.layers.Dense(64, activation='relu'),\n",
    "    tf.keras.layers.Dense(len(wine.target_names), activation='softmax')  # Capa de salida con 3 neuronas para las 3 clases\n",
    "])"
   ]
  },
  {
   "cell_type": "code",
   "execution_count": 16,
   "metadata": {},
   "outputs": [],
   "source": [
    "model.compile(optimizer='adam', loss='categorical_crossentropy', metrics=['accuracy'])"
   ]
  },
  {
   "cell_type": "code",
   "execution_count": 17,
   "metadata": {},
   "outputs": [
    {
     "name": "stdout",
     "output_type": "stream",
     "text": [
      "Epoch 1/50\n",
      "8/8 [==============================] - 0s 17ms/step - loss: 8.8218 - accuracy: 0.2756 - val_loss: 8.2169 - val_accuracy: 0.2667\n",
      "Epoch 2/50\n",
      "8/8 [==============================] - 0s 5ms/step - loss: 2.9614 - accuracy: 0.4567 - val_loss: 2.5079 - val_accuracy: 0.3333\n",
      "Epoch 3/50\n",
      "8/8 [==============================] - 0s 5ms/step - loss: 2.1039 - accuracy: 0.5276 - val_loss: 1.6627 - val_accuracy: 0.7333\n",
      "Epoch 4/50\n",
      "8/8 [==============================] - 0s 5ms/step - loss: 1.3428 - accuracy: 0.5354 - val_loss: 1.9303 - val_accuracy: 0.4000\n",
      "Epoch 5/50\n",
      "8/8 [==============================] - 0s 4ms/step - loss: 1.3662 - accuracy: 0.6614 - val_loss: 1.8360 - val_accuracy: 0.5333\n",
      "Epoch 6/50\n",
      "8/8 [==============================] - 0s 4ms/step - loss: 1.7453 - accuracy: 0.5512 - val_loss: 1.6327 - val_accuracy: 0.7333\n",
      "Epoch 7/50\n",
      "8/8 [==============================] - 0s 5ms/step - loss: 1.1098 - accuracy: 0.6693 - val_loss: 1.3453 - val_accuracy: 0.6667\n",
      "Epoch 8/50\n",
      "8/8 [==============================] - 0s 5ms/step - loss: 0.7944 - accuracy: 0.7087 - val_loss: 1.2810 - val_accuracy: 0.6000\n",
      "Epoch 9/50\n",
      "8/8 [==============================] - 0s 5ms/step - loss: 0.8747 - accuracy: 0.6693 - val_loss: 1.1596 - val_accuracy: 0.6667\n",
      "Epoch 10/50\n",
      "8/8 [==============================] - 0s 4ms/step - loss: 0.9567 - accuracy: 0.6693 - val_loss: 1.2159 - val_accuracy: 0.5333\n",
      "Epoch 11/50\n",
      "8/8 [==============================] - 0s 5ms/step - loss: 1.2721 - accuracy: 0.6220 - val_loss: 1.3055 - val_accuracy: 0.6000\n",
      "Epoch 12/50\n",
      "8/8 [==============================] - 0s 5ms/step - loss: 1.1910 - accuracy: 0.6142 - val_loss: 1.0377 - val_accuracy: 0.7333\n",
      "Epoch 13/50\n",
      "8/8 [==============================] - 0s 5ms/step - loss: 1.0330 - accuracy: 0.7165 - val_loss: 1.2271 - val_accuracy: 0.7333\n",
      "Epoch 14/50\n",
      "8/8 [==============================] - 0s 5ms/step - loss: 0.9427 - accuracy: 0.6299 - val_loss: 1.3241 - val_accuracy: 0.5333\n",
      "Epoch 15/50\n",
      "8/8 [==============================] - 0s 8ms/step - loss: 1.1337 - accuracy: 0.6378 - val_loss: 1.7326 - val_accuracy: 0.4667\n",
      "Epoch 16/50\n",
      "8/8 [==============================] - 0s 4ms/step - loss: 0.8776 - accuracy: 0.6535 - val_loss: 1.7562 - val_accuracy: 0.6000\n",
      "Epoch 17/50\n",
      "8/8 [==============================] - 0s 5ms/step - loss: 0.8028 - accuracy: 0.7244 - val_loss: 1.0317 - val_accuracy: 0.5333\n",
      "Epoch 18/50\n",
      "8/8 [==============================] - 0s 6ms/step - loss: 0.6305 - accuracy: 0.8189 - val_loss: 0.9874 - val_accuracy: 0.7333\n",
      "Epoch 19/50\n",
      "8/8 [==============================] - 0s 6ms/step - loss: 0.7116 - accuracy: 0.8110 - val_loss: 0.9012 - val_accuracy: 0.7333\n",
      "Epoch 20/50\n",
      "8/8 [==============================] - 0s 5ms/step - loss: 0.6958 - accuracy: 0.8268 - val_loss: 0.8706 - val_accuracy: 0.7333\n",
      "Epoch 21/50\n",
      "8/8 [==============================] - 0s 5ms/step - loss: 0.6937 - accuracy: 0.7874 - val_loss: 0.9241 - val_accuracy: 0.8000\n",
      "Epoch 22/50\n",
      "8/8 [==============================] - 0s 5ms/step - loss: 0.7173 - accuracy: 0.7480 - val_loss: 1.0064 - val_accuracy: 0.8000\n",
      "Epoch 23/50\n",
      "8/8 [==============================] - 0s 5ms/step - loss: 0.6625 - accuracy: 0.7559 - val_loss: 0.8249 - val_accuracy: 0.7333\n",
      "Epoch 24/50\n",
      "8/8 [==============================] - 0s 5ms/step - loss: 0.4699 - accuracy: 0.8425 - val_loss: 0.7797 - val_accuracy: 0.8000\n",
      "Epoch 25/50\n",
      "8/8 [==============================] - 0s 5ms/step - loss: 0.5176 - accuracy: 0.8110 - val_loss: 0.9605 - val_accuracy: 0.6000\n",
      "Epoch 26/50\n",
      "8/8 [==============================] - 0s 5ms/step - loss: 0.5176 - accuracy: 0.8189 - val_loss: 0.8992 - val_accuracy: 0.8667\n",
      "Epoch 27/50\n",
      "8/8 [==============================] - 0s 5ms/step - loss: 0.6106 - accuracy: 0.8031 - val_loss: 1.2235 - val_accuracy: 0.7333\n",
      "Epoch 28/50\n",
      "8/8 [==============================] - 0s 5ms/step - loss: 1.1314 - accuracy: 0.7165 - val_loss: 1.8771 - val_accuracy: 0.5333\n",
      "Epoch 29/50\n",
      "8/8 [==============================] - 0s 5ms/step - loss: 0.9523 - accuracy: 0.6929 - val_loss: 0.8218 - val_accuracy: 0.6667\n",
      "Epoch 30/50\n",
      "8/8 [==============================] - 0s 5ms/step - loss: 0.5629 - accuracy: 0.7795 - val_loss: 1.2348 - val_accuracy: 0.6000\n",
      "Epoch 31/50\n",
      "8/8 [==============================] - 0s 5ms/step - loss: 0.5739 - accuracy: 0.8189 - val_loss: 0.9363 - val_accuracy: 0.8667\n",
      "Epoch 32/50\n",
      "8/8 [==============================] - 0s 5ms/step - loss: 0.6773 - accuracy: 0.7874 - val_loss: 1.4383 - val_accuracy: 0.6000\n",
      "Epoch 33/50\n",
      "8/8 [==============================] - 0s 5ms/step - loss: 0.8439 - accuracy: 0.7795 - val_loss: 0.8923 - val_accuracy: 0.8667\n",
      "Epoch 34/50\n",
      "8/8 [==============================] - 0s 5ms/step - loss: 0.4733 - accuracy: 0.8504 - val_loss: 0.6704 - val_accuracy: 0.8000\n",
      "Epoch 35/50\n",
      "8/8 [==============================] - 0s 5ms/step - loss: 0.4039 - accuracy: 0.8583 - val_loss: 0.6598 - val_accuracy: 0.8000\n",
      "Epoch 36/50\n",
      "8/8 [==============================] - 0s 5ms/step - loss: 0.3875 - accuracy: 0.8504 - val_loss: 0.8992 - val_accuracy: 0.6667\n",
      "Epoch 37/50\n",
      "8/8 [==============================] - 0s 5ms/step - loss: 0.4351 - accuracy: 0.8661 - val_loss: 0.6483 - val_accuracy: 0.8000\n",
      "Epoch 38/50\n",
      "8/8 [==============================] - 0s 5ms/step - loss: 0.3724 - accuracy: 0.8898 - val_loss: 0.6027 - val_accuracy: 0.8000\n",
      "Epoch 39/50\n",
      "8/8 [==============================] - 0s 5ms/step - loss: 0.3712 - accuracy: 0.8583 - val_loss: 0.6255 - val_accuracy: 0.8000\n",
      "Epoch 40/50\n",
      "8/8 [==============================] - 0s 5ms/step - loss: 0.5528 - accuracy: 0.7717 - val_loss: 0.6730 - val_accuracy: 0.7333\n",
      "Epoch 41/50\n",
      "8/8 [==============================] - 0s 5ms/step - loss: 0.4371 - accuracy: 0.8268 - val_loss: 0.7510 - val_accuracy: 0.6667\n",
      "Epoch 42/50\n",
      "8/8 [==============================] - 0s 5ms/step - loss: 0.5166 - accuracy: 0.8425 - val_loss: 0.8169 - val_accuracy: 0.8667\n",
      "Epoch 43/50\n",
      "8/8 [==============================] - 0s 5ms/step - loss: 0.9216 - accuracy: 0.7165 - val_loss: 1.0218 - val_accuracy: 0.8667\n",
      "Epoch 44/50\n",
      "8/8 [==============================] - 0s 10ms/step - loss: 1.5495 - accuracy: 0.6772 - val_loss: 1.5165 - val_accuracy: 0.7333\n",
      "Epoch 45/50\n",
      "8/8 [==============================] - 0s 5ms/step - loss: 1.7058 - accuracy: 0.6457 - val_loss: 0.8411 - val_accuracy: 0.6667\n",
      "Epoch 46/50\n",
      "8/8 [==============================] - 0s 4ms/step - loss: 1.1986 - accuracy: 0.7953 - val_loss: 1.4063 - val_accuracy: 0.7333\n",
      "Epoch 47/50\n",
      "8/8 [==============================] - 0s 4ms/step - loss: 0.7352 - accuracy: 0.8110 - val_loss: 0.9421 - val_accuracy: 0.8000\n",
      "Epoch 48/50\n",
      "8/8 [==============================] - 0s 5ms/step - loss: 0.4019 - accuracy: 0.8583 - val_loss: 0.8352 - val_accuracy: 0.8000\n",
      "Epoch 49/50\n",
      "8/8 [==============================] - 0s 5ms/step - loss: 0.4692 - accuracy: 0.8346 - val_loss: 0.8425 - val_accuracy: 0.8667\n",
      "Epoch 50/50\n",
      "8/8 [==============================] - 0s 6ms/step - loss: 0.5759 - accuracy: 0.8031 - val_loss: 1.1601 - val_accuracy: 0.8667\n"
     ]
    },
    {
     "data": {
      "text/plain": [
       "<keras.src.callbacks.History at 0x2775eca7e90>"
      ]
     },
     "execution_count": 17,
     "metadata": {},
     "output_type": "execute_result"
    }
   ],
   "source": [
    "model.fit(X_train, y_train, epochs=50, batch_size=16, validation_split=0.1)"
   ]
  },
  {
   "cell_type": "code",
   "execution_count": 18,
   "metadata": {},
   "outputs": [
    {
     "name": "stdout",
     "output_type": "stream",
     "text": [
      "2/2 [==============================] - 0s 10ms/step - loss: 1.1956 - accuracy: 0.7222\n",
      "Pérdida en el conjunto de prueba: 1.1956\n",
      "Precisión en el conjunto de prueba: 0.7222\n"
     ]
    }
   ],
   "source": [
    "loss, accuracy = model.evaluate(X_test, y_test)\n",
    "print(f\"Pérdida en el conjunto de prueba: {loss:.4f}\")\n",
    "print(f\"Precisión en el conjunto de prueba: {accuracy:.4f}\")"
   ]
  },
  {
   "cell_type": "code",
   "execution_count": 19,
   "metadata": {},
   "outputs": [
    {
     "name": "stdout",
     "output_type": "stream",
     "text": [
      "1/1 [==============================] - 0s 67ms/step\n",
      "Probabilidades de clase para el nuevo elemento:\n",
      "Clase class_0: 0.8673\n",
      "Clase class_1: 0.1263\n",
      "Clase class_2: 0.0064\n"
     ]
    }
   ],
   "source": [
    "new_data = np.array([[13.24, 2.59, 2.87, 21.0, 118.0, 2.8, 2.69, 0.39, 1.82, 4.32, 1.04, 2.93, 735.0]])  # Por ejemplo, un nuevo elemento con estas características\n",
    "predicted_probabilities = model.predict(new_data)\n",
    "print(\"Probabilidades de clase para el nuevo elemento:\")\n",
    "for i, class_name in enumerate(wine.target_names):\n",
    "    print(f\"Clase {class_name}: {predicted_probabilities[0][i]:.4f}\")"
   ]
  }
 ],
 "metadata": {
  "kernelspec": {
   "display_name": "Python 3",
   "language": "python",
   "name": "python3"
  },
  "language_info": {
   "codemirror_mode": {
    "name": "ipython",
    "version": 3
   },
   "file_extension": ".py",
   "mimetype": "text/x-python",
   "name": "python",
   "nbconvert_exporter": "python",
   "pygments_lexer": "ipython3",
   "version": "3.11.2"
  }
 },
 "nbformat": 4,
 "nbformat_minor": 2
}
